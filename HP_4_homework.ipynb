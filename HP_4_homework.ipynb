{
 "cells": [
  {
   "cell_type": "code",
   "execution_count": 63,
   "metadata": {},
   "outputs": [],
   "source": [
    "class People:\n",
    "    def __init__(self, name, birth_year, gender):\n",
    "        self.age = 2021 - birth_year\n",
    "        self.name = name\n",
    "        self.gender = gender\n",
    "        \n",
    "    def print_age(self):\n",
    "        print(f'{self.name} is {self.age} years old in 2021.')"
   ]
  },
  {
   "cell_type": "code",
   "execution_count": 60,
   "metadata": {},
   "outputs": [],
   "source": [
    "class Year():\n",
    "    def __init__(self, classes: list):\n",
    "        self.classes = classes"
   ]
  },
  {
   "cell_type": "code",
   "execution_count": 61,
   "metadata": {},
   "outputs": [],
   "source": [
    "class Class():\n",
    "    def __init__(self, years, students: list):\n",
    "        self.years = years\n",
    "        self.students = students\n",
    "        self.years.classes.append(self)"
   ]
  },
  {
   "cell_type": "code",
   "execution_count": 62,
   "metadata": {},
   "outputs": [],
   "source": [
    "class Subject:\n",
    "    def __init__(self, name, description, years):\n",
    "        self.name = name\n",
    "        self.description = description\n",
    "        self.years = years"
   ]
  },
  {
   "cell_type": "code",
   "execution_count": 16,
   "metadata": {},
   "outputs": [],
   "source": [
    "class Student(People):\n",
    "    def __init__(self, name, birth_year, gender, s_class: list, gpa, parent_phone):\n",
    "        super().__init__(name, birth_year, gender)\n",
    "        self.gpa = gpa\n",
    "        self.s_class = s_class\n",
    "        self.parent_phone = parent_phone\n",
    "        self.s_class.students.append(self)"
   ]
  },
  {
   "cell_type": "code",
   "execution_count": 47,
   "metadata": {},
   "outputs": [],
   "source": [
    "class Teacher(People):\n",
    "    def __init__(self, name, birth_year, gender, subjects: list, wh_weekly, wage_hourly):\n",
    "        super().__init__(name, birth_year, gender)\n",
    "        self.subjects = subjects\n",
    "        self.wh_weekly = wh_weekly\n",
    "        self.wage_hourly = wage_hourly\n",
    "    \n",
    "    def salary(self):\n",
    "        return self.wh_weekly* 52 * self.wage_hourly / 12\n",
    "        \n",
    "        \n",
    "class FormTeacher(Teacher):\n",
    "    def __init__(self, name, birth_year, gender, subjects: list, wh_weekly, wage_hourly, s_class):\n",
    "        super().__init__(name, birth_year, gender, subjects, wh_weekly, wage_hourly)\n",
    "        self.school_class = s_class\n",
    "\n",
    "class Headmaster(Teacher):\n",
    "    def __init__(self, name, birth_year, gender, subjects: list, wh_weekly, wage_hourly, bonus):\n",
    "        super().__init__(name, birth_year, gender, subjects, wh_weekly, wage_hourly)\n",
    "        self.bonus = bonus\n",
    "\n",
    "        \n",
    "    def salary(self):\n",
    "        return self.wh_weekly* 52 * self.wage_hourly / 12 + self.bonus"
   ]
  },
  {
   "cell_type": "code",
   "execution_count": 44,
   "metadata": {},
   "outputs": [],
   "source": [
    "p = Teacher(\"Gabor\", 1967, 'man', ['Maths', 'Biology', 'Physics'], 25, 200)"
   ]
  },
  {
   "cell_type": "code",
   "execution_count": 48,
   "metadata": {},
   "outputs": [],
   "source": [
    "d = Headmaster('Karoly', 1956, 'man' ,'', 30, 200, 300)"
   ]
  },
  {
   "cell_type": "code",
   "execution_count": 49,
   "metadata": {},
   "outputs": [
    {
     "name": "stdout",
     "output_type": "stream",
     "text": [
      "26300.0\n"
     ]
    }
   ],
   "source": [
    "print(d.salary())"
   ]
  },
  {
   "cell_type": "code",
   "execution_count": 52,
   "metadata": {},
   "outputs": [],
   "source": [
    "class School():\n",
    "    def __init__(self, students: list, teachers: list, headmaster, name, adress):\n",
    "        self.students = students\n",
    "        self.teachers = teachers\n",
    "        self.headmaster = headmaster\n",
    "        self.name = name\n",
    "        self.adress = adress\n",
    "        "
   ]
  },
  {
   "cell_type": "code",
   "execution_count": 58,
   "metadata": {},
   "outputs": [
    {
     "ename": "AttributeError",
     "evalue": "'int' object has no attribute 'students'",
     "output_type": "error",
     "traceback": [
      "\u001b[1;31m---------------------------------------------------------------------------\u001b[0m",
      "\u001b[1;31mAttributeError\u001b[0m                            Traceback (most recent call last)",
      "\u001b[1;32m<ipython-input-58-af85aaedc7dc>\u001b[0m in \u001b[0;36m<module>\u001b[1;34m\u001b[0m\n\u001b[0;32m     13\u001b[0m \u001b[0msub3\u001b[0m \u001b[1;33m=\u001b[0m \u001b[0mSubject\u001b[0m\u001b[1;33m(\u001b[0m\u001b[1;34m'English'\u001b[0m\u001b[1;33m,\u001b[0m \u001b[1;34m'English is a West Germanic language first spoken in early medieval England, which has eventually become the leading language of international discourse in the 21st century'\u001b[0m\u001b[1;33m,\u001b[0m \u001b[1;33m[\u001b[0m\u001b[1;36m9\u001b[0m\u001b[1;33m]\u001b[0m\u001b[1;33m)\u001b[0m\u001b[1;33m\u001b[0m\u001b[1;33m\u001b[0m\u001b[0m\n\u001b[0;32m     14\u001b[0m \u001b[1;33m\u001b[0m\u001b[0m\n\u001b[1;32m---> 15\u001b[1;33m \u001b[0ms1\u001b[0m \u001b[1;33m=\u001b[0m \u001b[0mStudent\u001b[0m\u001b[1;33m(\u001b[0m\u001b[1;34m'Tim'\u001b[0m\u001b[1;33m,\u001b[0m \u001b[1;36m1998\u001b[0m\u001b[1;33m,\u001b[0m \u001b[1;34m'male'\u001b[0m\u001b[1;33m,\u001b[0m \u001b[1;36m10\u001b[0m\u001b[1;33m,\u001b[0m \u001b[1;36m4.2\u001b[0m\u001b[1;33m,\u001b[0m \u001b[1;36m234044\u001b[0m\u001b[1;33m)\u001b[0m\u001b[1;33m\u001b[0m\u001b[1;33m\u001b[0m\u001b[0m\n\u001b[0m\u001b[0;32m     16\u001b[0m \u001b[0ms2\u001b[0m \u001b[1;33m=\u001b[0m \u001b[0mStudent\u001b[0m\u001b[1;33m(\u001b[0m\u001b[1;34m'Lana'\u001b[0m\u001b[1;33m,\u001b[0m \u001b[1;36m1999\u001b[0m\u001b[1;33m,\u001b[0m \u001b[1;34m'female'\u001b[0m\u001b[1;33m,\u001b[0m \u001b[1;36m11\u001b[0m\u001b[1;33m,\u001b[0m \u001b[1;36m3.2\u001b[0m\u001b[1;33m,\u001b[0m \u001b[1;36m234045\u001b[0m\u001b[1;33m)\u001b[0m\u001b[1;33m\u001b[0m\u001b[1;33m\u001b[0m\u001b[0m\n\u001b[0;32m     17\u001b[0m \u001b[0ms3\u001b[0m \u001b[1;33m=\u001b[0m \u001b[0mStudent\u001b[0m\u001b[1;33m(\u001b[0m\u001b[1;34m'Tom'\u001b[0m\u001b[1;33m,\u001b[0m \u001b[1;36m1996\u001b[0m\u001b[1;33m,\u001b[0m \u001b[1;34m'male'\u001b[0m\u001b[1;33m,\u001b[0m \u001b[1;36m10\u001b[0m\u001b[1;33m,\u001b[0m \u001b[1;36m3.6\u001b[0m\u001b[1;33m,\u001b[0m \u001b[1;36m234046\u001b[0m\u001b[1;33m)\u001b[0m\u001b[1;33m\u001b[0m\u001b[1;33m\u001b[0m\u001b[0m\n",
      "\u001b[1;32m<ipython-input-16-426f2c1a9e77>\u001b[0m in \u001b[0;36m__init__\u001b[1;34m(self, name, birth_year, gender, s_class, gpa, parent_phone)\u001b[0m\n\u001b[0;32m      5\u001b[0m         \u001b[0mself\u001b[0m\u001b[1;33m.\u001b[0m\u001b[0ms_class\u001b[0m \u001b[1;33m=\u001b[0m \u001b[0ms_class\u001b[0m\u001b[1;33m\u001b[0m\u001b[1;33m\u001b[0m\u001b[0m\n\u001b[0;32m      6\u001b[0m         \u001b[0mself\u001b[0m\u001b[1;33m.\u001b[0m\u001b[0mparent_phone\u001b[0m \u001b[1;33m=\u001b[0m \u001b[0mparent_phone\u001b[0m\u001b[1;33m\u001b[0m\u001b[1;33m\u001b[0m\u001b[0m\n\u001b[1;32m----> 7\u001b[1;33m         \u001b[0mself\u001b[0m\u001b[1;33m.\u001b[0m\u001b[0ms_class\u001b[0m\u001b[1;33m.\u001b[0m\u001b[0mstudents\u001b[0m\u001b[1;33m.\u001b[0m\u001b[0mappend\u001b[0m\u001b[1;33m(\u001b[0m\u001b[0mself\u001b[0m\u001b[1;33m)\u001b[0m\u001b[1;33m\u001b[0m\u001b[1;33m\u001b[0m\u001b[0m\n\u001b[0m",
      "\u001b[1;31mAttributeError\u001b[0m: 'int' object has no attribute 'students'"
     ]
    }
   ],
   "source": [
    "t1 = Teacher(\"Josef\", 1970, 'male', 'Maths', 24, 200)\n",
    "t2 = Teacher(\"Kylie\", 1990, 'female', 'Biology', 20, 170)\n",
    "t3 = Teacher(\"Isaiah\", 1983, 'male', 'English', 25, 220)\n",
    "\n",
    "ft1 = FormTeacher(\"Karol\", 1970, 'male', ['Biology', 'Maths'] , 24, 200, 10)\n",
    "ft2 = FormTeacher(\"Cristina\", 1987, 'female', ['Biology'] , 20, 170, 11)\n",
    "ft3 = FormTeacher(\"Isaiah\", 1983, 'male', ['Maths', 'English'] , 25, 220, 9)\n",
    "\n",
    "dir1 = Headmaster('Karoly', 1956, 'male', ['Biology'], 30, 200, 200)\n",
    "\n",
    "sub1 = Subject('Biology', 'Biology is the natural science that studies life and living organisms, including their physical structure, chemical processes, molecular interactions, physiological mechanisms, development and evolution.', [9, 10])\n",
    "sub2 = Subject('Maths', 'The science that draws necessary conclusions', [10, 11])\n",
    "sub3 = Subject('English', 'English is a West Germanic language first spoken in early medieval England, which has eventually become the leading language of international discourse in the 21st century', [9])\n",
    "\n",
    "s1 = Student('Tim', 1998, 'male', 10, 4.2, 234044)\n",
    "s2 = Student('Lana', 1999, 'female', 11, 3.2, 234045)\n",
    "s3 = Student('Tom', 1996, 'male', 10, 3.6, 234046)\n",
    "s4 = Student('Rebecca', 1995, 'female', 9, 4.3, 234047)\n",
    "s5 = Student('Tam', 1994, 'male', 9, 4.4, 234048)\n",
    "s6 = Student('Jasmin', 1993, 'female', 11, 4.6, 234049)\n",
    "s7 = Student('Tum', 1992, 'male', 11, 4.5, 234010)\n",
    "s8 = Student('Mia', 1991, 'female', 9, 2.2, 234011)\n",
    "s9 = Student('Tem', 1990, 'male', 10, 3.8, 122341)\n",
    "s10 = Student('Riley', 2000, 'female', 11, 4.2, 135151)\n",
    "\n",
    "school1 = School([s1, s2, s3, s4, s5, s6, s7, s8, s9, s10], [t1, t2, t3], dir1, \"High High School\", '14234 Birminghamborough UK')"
   ]
  },
  {
   "cell_type": "code",
   "execution_count": null,
   "metadata": {},
   "outputs": [],
   "source": []
  },
  {
   "cell_type": "code",
   "execution_count": null,
   "metadata": {},
   "outputs": [],
   "source": []
  },
  {
   "cell_type": "code",
   "execution_count": null,
   "metadata": {},
   "outputs": [],
   "source": []
  },
  {
   "cell_type": "code",
   "execution_count": null,
   "metadata": {},
   "outputs": [],
   "source": []
  },
  {
   "cell_type": "code",
   "execution_count": null,
   "metadata": {},
   "outputs": [],
   "source": []
  },
  {
   "cell_type": "code",
   "execution_count": null,
   "metadata": {},
   "outputs": [],
   "source": []
  },
  {
   "cell_type": "code",
   "execution_count": null,
   "metadata": {},
   "outputs": [],
   "source": []
  },
  {
   "cell_type": "code",
   "execution_count": null,
   "metadata": {},
   "outputs": [],
   "source": []
  },
  {
   "cell_type": "code",
   "execution_count": null,
   "metadata": {},
   "outputs": [],
   "source": []
  },
  {
   "cell_type": "code",
   "execution_count": null,
   "metadata": {},
   "outputs": [],
   "source": []
  },
  {
   "cell_type": "code",
   "execution_count": null,
   "metadata": {},
   "outputs": [],
   "source": []
  },
  {
   "cell_type": "code",
   "execution_count": null,
   "metadata": {},
   "outputs": [],
   "source": []
  },
  {
   "cell_type": "code",
   "execution_count": null,
   "metadata": {},
   "outputs": [],
   "source": []
  },
  {
   "cell_type": "code",
   "execution_count": null,
   "metadata": {},
   "outputs": [],
   "source": []
  },
  {
   "cell_type": "code",
   "execution_count": null,
   "metadata": {},
   "outputs": [],
   "source": []
  },
  {
   "cell_type": "code",
   "execution_count": null,
   "metadata": {},
   "outputs": [],
   "source": []
  },
  {
   "cell_type": "code",
   "execution_count": null,
   "metadata": {},
   "outputs": [],
   "source": []
  },
  {
   "cell_type": "code",
   "execution_count": null,
   "metadata": {},
   "outputs": [],
   "source": []
  },
  {
   "cell_type": "code",
   "execution_count": null,
   "metadata": {},
   "outputs": [],
   "source": []
  },
  {
   "cell_type": "code",
   "execution_count": null,
   "metadata": {},
   "outputs": [],
   "source": []
  },
  {
   "cell_type": "code",
   "execution_count": null,
   "metadata": {},
   "outputs": [],
   "source": []
  },
  {
   "cell_type": "code",
   "execution_count": null,
   "metadata": {},
   "outputs": [],
   "source": []
  },
  {
   "cell_type": "code",
   "execution_count": null,
   "metadata": {},
   "outputs": [],
   "source": []
  },
  {
   "cell_type": "code",
   "execution_count": null,
   "metadata": {},
   "outputs": [],
   "source": []
  },
  {
   "cell_type": "code",
   "execution_count": null,
   "metadata": {},
   "outputs": [],
   "source": []
  },
  {
   "cell_type": "code",
   "execution_count": null,
   "metadata": {},
   "outputs": [],
   "source": []
  },
  {
   "cell_type": "code",
   "execution_count": null,
   "metadata": {},
   "outputs": [],
   "source": []
  },
  {
   "cell_type": "code",
   "execution_count": null,
   "metadata": {},
   "outputs": [],
   "source": []
  },
  {
   "cell_type": "code",
   "execution_count": null,
   "metadata": {},
   "outputs": [],
   "source": []
  },
  {
   "cell_type": "code",
   "execution_count": null,
   "metadata": {},
   "outputs": [],
   "source": []
  },
  {
   "cell_type": "code",
   "execution_count": null,
   "metadata": {},
   "outputs": [],
   "source": []
  }
 ],
 "metadata": {
  "kernelspec": {
   "display_name": "Python 3",
   "language": "python",
   "name": "python3"
  },
  "language_info": {
   "codemirror_mode": {
    "name": "ipython",
    "version": 3
   },
   "file_extension": ".py",
   "mimetype": "text/x-python",
   "name": "python",
   "nbconvert_exporter": "python",
   "pygments_lexer": "ipython3",
   "version": "3.8.5"
  }
 },
 "nbformat": 4,
 "nbformat_minor": 4
}
