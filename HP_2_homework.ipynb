{
 "cells": [
  {
   "cell_type": "code",
   "execution_count": 11,
   "metadata": {},
   "outputs": [],
   "source": [
    "import math as m\n",
    "import numpy as np\n",
    "from tqdm import tqdm"
   ]
  },
  {
   "cell_type": "code",
   "execution_count": 3,
   "metadata": {},
   "outputs": [],
   "source": [
    "def fibonacci1(n: int) -> int:\n",
    "    \n",
    "    \"\"\"\n",
    "      This function returns the nth number of the fibonacci sequence.\n",
    "\n",
    "        Args:\n",
    "            n (int): \n",
    "            Ordinal number in the Fibonacci sequence.\n",
    "            \n",
    "            cache(list):\n",
    "            List of stored values.\n",
    "            \n",
    "        Returns:\n",
    "            [Integer]: The value of the number in the nth postition in the sequence\n",
    "    \"\"\"\n",
    "    i = 1\n",
    "    cache = [1, 1]\n",
    "    first = cache[0]\n",
    "    while i < n-1:\n",
    "        cache[0] = cache[1]\n",
    "        cache[1] = first + cache[0]\n",
    "        first = cache[0]\n",
    "        i += 1\n",
    "    #return cache[1]"
   ]
  },
  {
   "cell_type": "code",
   "execution_count": 4,
   "metadata": {},
   "outputs": [],
   "source": [
    "def fibonacci2(n: int, cache: list =[1, 1]) -> int:\n",
    "    \"\"\"\n",
    "    This function returns the nth number of the fibonacci sequence. \n",
    "    Faster method, if you run it several times! Store the counted numbers in the sequence.\n",
    "\n",
    "        Args:\n",
    "            n (int): \n",
    "            Ordinal number in the Fibonacci sequence.\n",
    "            \n",
    "            cache(list):\n",
    "            List of stored values.\n",
    "        Returns:\n",
    "            [Integer]: The value of the number in the nth postition in the sequence\n",
    "    \"\"\"\n",
    "    if n in cache:\n",
    "        return cache[n]\n",
    "    elif n == 0:\n",
    "        print('Incorrect input')\n",
    "    else:\n",
    "        for j in range(len(cache), n + 1):\n",
    "            cache.append(cache[-2] + cache[-1])\n",
    "        #return cache[n-1]"
   ]
  },
  {
   "cell_type": "code",
   "execution_count": 5,
   "metadata": {},
   "outputs": [
    {
     "name": "stdout",
     "output_type": "stream",
     "text": [
      "Wall time: 16 ms\n"
     ]
    }
   ],
   "source": [
    "%%time\n",
    "fibonacci2(10000)"
   ]
  },
  {
   "cell_type": "code",
   "execution_count": 6,
   "metadata": {},
   "outputs": [
    {
     "name": "stdout",
     "output_type": "stream",
     "text": [
      "Wall time: 15 ms\n"
     ]
    }
   ],
   "source": [
    "%%time\n",
    "fibonacci1(10000)"
   ]
  },
  {
   "cell_type": "code",
   "execution_count": 7,
   "metadata": {},
   "outputs": [],
   "source": [
    "import random as r\n",
    "import math as m\n",
    "from multiprocessing import Pool, cpu_count, Process\n",
    "import timer\n",
    "import os"
   ]
  },
  {
   "cell_type": "code",
   "execution_count": 8,
   "metadata": {},
   "outputs": [],
   "source": [
    "# x^2 + y^2 = r^2 -> Equation of a circle\n",
    "# print(cpu_count())\n",
    "def pi_approx(n: int) -> float:\n",
    "    \"\"\"\n",
    "    This function approximate pi with throwing dots to a square. \n",
    "    Check if these dots are inside or ouside of a circle that fits in this square\n",
    "        Args:\n",
    "            n (int): \n",
    "            Number of dots.\n",
    "            \n",
    "            cache(list):\n",
    "            List of stored values.\n",
    "        Returns:\n",
    "            [Integer]: The value of the number in the nth postition in the sequence\n",
    "    \"\"\"\n",
    "    inside = 0\n",
    "    for i in range(n):\n",
    "        x = r.random()\n",
    "        y = r.random()\n",
    "        \n",
    "        if m.sqrt(x**2 + y**2) < 1:\n",
    "            inside += 1\n",
    "    pi = (inside/n) * 4\n",
    "    return pi"
   ]
  },
  {
   "cell_type": "code",
   "execution_count": 9,
   "metadata": {},
   "outputs": [
    {
     "name": "stdout",
     "output_type": "stream",
     "text": [
      "Wall time: 1.38 s\n"
     ]
    },
    {
     "data": {
      "text/plain": [
       "3.142938"
      ]
     },
     "execution_count": 9,
     "metadata": {},
     "output_type": "execute_result"
    }
   ],
   "source": [
    "%%time\n",
    "pi_approx(2000000)"
   ]
  },
  {
   "cell_type": "code",
   "execution_count": null,
   "metadata": {},
   "outputs": [],
   "source": []
  },
  {
   "cell_type": "code",
   "execution_count": null,
   "metadata": {},
   "outputs": [],
   "source": [
    "def main():\n",
    "    \n",
    "    values = (2000, 2000, 2000, 2000)\n",
    "    with Pool(processes = 4) as p:\n",
    "        res = p.map(pi_approx, values)\n",
    "    # ide nem tudom, hogy pontosan mit kellene írnom, hogy jó legyen\n",
    "    # illetve ezt miért nem tudom jól futtatni?\n",
    "if __name__ == '__main__':\n",
    "    main()"
   ]
  },
  {
   "cell_type": "code",
   "execution_count": null,
   "metadata": {},
   "outputs": [],
   "source": []
  }
 ],
 "metadata": {
  "kernelspec": {
   "display_name": "Python 3",
   "language": "python",
   "name": "python3"
  },
  "language_info": {
   "codemirror_mode": {
    "name": "ipython",
    "version": 3
   },
   "file_extension": ".py",
   "mimetype": "text/x-python",
   "name": "python",
   "nbconvert_exporter": "python",
   "pygments_lexer": "ipython3",
   "version": "3.8.5"
  }
 },
 "nbformat": 4,
 "nbformat_minor": 4
}
