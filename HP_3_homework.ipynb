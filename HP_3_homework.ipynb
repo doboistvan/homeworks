{
 "cells": [
  {
   "cell_type": "code",
   "execution_count": 6,
   "metadata": {},
   "outputs": [],
   "source": [
    "def egyenlet(x: str, *args):\n",
    "    '''\n",
    "    This function evaluates the given expression with the input values.\n",
    "    \n",
    "    Args:\n",
    "        x (str): \n",
    "        Algebraic expression.\n",
    "            \n",
    "        args(float):\n",
    "        Values in the expression\n",
    "            \n",
    "        Returns: The evaluation of the expression\n",
    "    '''\n",
    "    #Input correction\n",
    "    eq = x.replace(' ', '')\n",
    "    \n",
    "    #Store the variables from the expression in a list [lst]\n",
    "    lst = []\n",
    "    for i in range(0, len(eq), 2):\n",
    "        if eq[i] not in lst:\n",
    "            lst.append(eq[i])\n",
    "    \n",
    "    #Pairing the variables and the input values in a dictionary   \n",
    "    dic = {lst[i]: args[i]  for i in range(0, len(lst))}\n",
    "    \n",
    "    # Insert the values to the expression\n",
    "    for key in dic.keys():\n",
    "        eq = eq.replace(key, str(dic[key]))\n",
    "    \n",
    "    return eval(eq)\n",
    "    del eq"
   ]
  },
  {
   "cell_type": "code",
   "execution_count": 5,
   "metadata": {},
   "outputs": [
    {
     "name": "stdout",
     "output_type": "stream",
     "text": [
      "958441 874225 833569 755161\n"
     ]
    }
   ],
   "source": [
    "numbers = []\n",
    "for i in range(1000, 1, -1):\n",
    "    if (i % 11 == 0) and (i % 2 != 0) and (i % 3 != 0):\n",
    "        numbers.append(i**2)\n",
    "    if len(numbers) > 3:\n",
    "        break\n",
    "a, b, c, d = numbers\n",
    "print(a, b, c, d)"
   ]
  },
  {
   "cell_type": "code",
   "execution_count": null,
   "metadata": {},
   "outputs": [],
   "source": []
  }
 ],
 "metadata": {
  "kernelspec": {
   "display_name": "Python 3",
   "language": "python",
   "name": "python3"
  },
  "language_info": {
   "codemirror_mode": {
    "name": "ipython",
    "version": 3
   },
   "file_extension": ".py",
   "mimetype": "text/x-python",
   "name": "python",
   "nbconvert_exporter": "python",
   "pygments_lexer": "ipython3",
   "version": "3.8.5"
  }
 },
 "nbformat": 4,
 "nbformat_minor": 4
}
